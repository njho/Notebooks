{
  "nbformat": 4,
  "nbformat_minor": 0,
  "metadata": {
    "colab": {
      "name": "My First Notebook.ipynb",
      "version": "0.3.2",
      "provenance": [],
      "include_colab_link": true
    },
    "kernelspec": {
      "display_name": "Python 3",
      "language": "python",
      "name": "python3"
    }
  },
  "cells": [
    {
      "cell_type": "markdown",
      "metadata": {
        "id": "view-in-github",
        "colab_type": "text"
      },
      "source": [
        "<a href=\"https://colab.research.google.com/github/njho/Notebooks/blob/master/My_First_Notebook.ipynb\" target=\"_parent\"><img src=\"https://colab.research.google.com/assets/colab-badge.svg\" alt=\"Open In Colab\"/></a>"
      ]
    },
    {
      "metadata": {
        "id": "DGMb-X9BEGfx",
        "colab_type": "code",
        "colab": {}
      },
      "cell_type": "code",
      "source": [
        "# This is my first Notebook!\n"
      ],
      "execution_count": 0,
      "outputs": []
    },
    {
      "metadata": {
        "id": "jzgPwGlIEkpQ",
        "colab_type": "code",
        "colab": {}
      },
      "cell_type": "code",
      "source": [
        "# # http://pytorch.org/\n",
        "# from os.path import exists\n",
        "# from wheel.pep425tags import get_abbr_impl, get_impl_ver, get_abi_tag\n",
        "# platform = '{}{}-{}'.format(get_abbr_impl(), get_impl_ver(), get_abi_tag())\n",
        "# cuda_output = !ldconfig -p|grep cudart.so|sed -e 's/.*\\.\\([0-9]*\\)\\.\\([0-9]*\\)$/cu\\1\\2/'\n",
        "# accelerator = cuda_output[0] if exists('/dev/nvidia0') else 'cpu'\n",
        "\n",
        "# !pip install -q http://download.pytorch.org/whl/{accelerator}/torch-0.4.1-{platform}-linux_x86_64.whl torchvision\n",
        "# import torch"
      ],
      "execution_count": 0,
      "outputs": []
    },
    {
      "metadata": {
        "id": "se60lL6MEGf0",
        "colab_type": "code",
        "outputId": "c01f3236-82d5-4e25-8b24-4a04be63cedc",
        "colab": {
          "base_uri": "https://localhost:8080/",
          "height": 51
        }
      },
      "cell_type": "code",
      "source": [
        "from __future__ import print_function\n",
        "\n",
        "%load_ext autoreload\n",
        "%autoreload 2\n",
        "import torch"
      ],
      "execution_count": 96,
      "outputs": [
        {
          "output_type": "stream",
          "text": [
            "The autoreload extension is already loaded. To reload it, use:\n",
            "  %reload_ext autoreload\n"
          ],
          "name": "stdout"
        }
      ]
    },
    {
      "metadata": {
        "id": "IOraP2HdEP2f",
        "colab_type": "code",
        "colab": {}
      },
      "cell_type": "code",
      "source": [
        "# http://pytorch.org/\n",
        "from os.path import exists\n",
        "from wheel.pep425tags import get_abbr_impl, get_impl_ver, get_abi_tag\n",
        "platform = '{}{}-{}'.format(get_abbr_impl(), get_impl_ver(), get_abi_tag())\n",
        "cuda_output = !ldconfig -p|grep cudart.so|sed -e 's/.*\\.\\([0-9]*\\)\\.\\([0-9]*\\)$/cu\\1\\2/'\n",
        "accelerator = cuda_output[0] if exists('/dev/nvidia0') else 'cpu'\n",
        "\n",
        "!pip install -q http://download.pytorch.org/whl/{accelerator}/torch-0.4.1-{platform}-linux_x86_64.whl torchvision\n",
        "import torch"
      ],
      "execution_count": 0,
      "outputs": []
    },
    {
      "metadata": {
        "id": "uyaBTCEZEGf3",
        "colab_type": "code",
        "outputId": "ed0c82d9-aadf-46a4-e9ae-e4c69441fffa",
        "colab": {
          "base_uri": "https://localhost:8080/",
          "height": 102
        }
      },
      "cell_type": "code",
      "source": [
        "x = torch.empty(5, 3)\n",
        "print(x)"
      ],
      "execution_count": 98,
      "outputs": [
        {
          "output_type": "stream",
          "text": [
            "tensor([[1.6378e-37, 0.0000e+00, 4.4842e-44],\n",
            "        [0.0000e+00,        nan, 2.4310e-37],\n",
            "        [2.6826e+23, 4.2886e-08, 1.3662e-05],\n",
            "        [5.3690e-05, 2.6332e+20, 4.2654e-08],\n",
            "        [1.0562e-05, 5.3977e-05, 1.9633e+34]])\n"
          ],
          "name": "stdout"
        }
      ]
    },
    {
      "metadata": {
        "id": "7Yx8C9PoEGf6",
        "colab_type": "code",
        "outputId": "101195e4-1ec3-4cb8-f429-4128de7d0742",
        "colab": {
          "base_uri": "https://localhost:8080/",
          "height": 102
        }
      },
      "cell_type": "code",
      "source": [
        "x = torch.randn(5,3)\n",
        "print(x)"
      ],
      "execution_count": 99,
      "outputs": [
        {
          "output_type": "stream",
          "text": [
            "tensor([[ 1.4921, -0.2372,  0.2862],\n",
            "        [ 0.4508,  0.9462, -0.8951],\n",
            "        [ 0.1714,  1.0400, -0.1521],\n",
            "        [-1.4312, -0.8684,  0.8122],\n",
            "        [-0.7242,  0.4831, -0.7338]])\n"
          ],
          "name": "stdout"
        }
      ]
    },
    {
      "metadata": {
        "id": "JJF7Hu-cEGf9",
        "colab_type": "code",
        "outputId": "43be3c04-e660-4830-ca0c-51ef1a92af6d",
        "colab": {
          "base_uri": "https://localhost:8080/",
          "height": 34
        }
      },
      "cell_type": "code",
      "source": [
        "x.size()"
      ],
      "execution_count": 100,
      "outputs": [
        {
          "output_type": "execute_result",
          "data": {
            "text/plain": [
              "torch.Size([5, 3])"
            ]
          },
          "metadata": {
            "tags": []
          },
          "execution_count": 100
        }
      ]
    },
    {
      "metadata": {
        "id": "H4dOW4QGEGgA",
        "colab_type": "code",
        "outputId": "9524c2bb-0b00-4464-985a-3c7a8b6aa3d6",
        "colab": {
          "base_uri": "https://localhost:8080/",
          "height": 102
        }
      },
      "cell_type": "code",
      "source": [
        "x = torch.rand(5,3)\n",
        "print(x)"
      ],
      "execution_count": 101,
      "outputs": [
        {
          "output_type": "stream",
          "text": [
            "tensor([[0.3136, 0.3695, 0.2987],\n",
            "        [0.1880, 0.9486, 0.4408],\n",
            "        [0.5178, 0.2826, 0.9189],\n",
            "        [0.2077, 0.6097, 0.4125],\n",
            "        [0.1533, 0.1409, 0.1049]])\n"
          ],
          "name": "stdout"
        }
      ]
    },
    {
      "metadata": {
        "id": "dlQvBc_xEGgD",
        "colab_type": "code",
        "outputId": "31e2b6e6-8ec3-4e20-f16e-563043bd5d0e",
        "colab": {
          "base_uri": "https://localhost:8080/",
          "height": 102
        }
      },
      "cell_type": "code",
      "source": [
        "x = torch.zeros(5,3, dtype=torch.long)\n",
        "print(x);"
      ],
      "execution_count": 102,
      "outputs": [
        {
          "output_type": "stream",
          "text": [
            "tensor([[0, 0, 0],\n",
            "        [0, 0, 0],\n",
            "        [0, 0, 0],\n",
            "        [0, 0, 0],\n",
            "        [0, 0, 0]])\n"
          ],
          "name": "stdout"
        }
      ]
    },
    {
      "metadata": {
        "id": "cjKUXwSfEGgG",
        "colab_type": "code",
        "outputId": "4bb01f15-7353-494c-ed78-b0d5488bc99c",
        "colab": {
          "base_uri": "https://localhost:8080/",
          "height": 34
        }
      },
      "cell_type": "code",
      "source": [
        "x = torch.tensor([5.5,3]);\n",
        "print(x);\n"
      ],
      "execution_count": 103,
      "outputs": [
        {
          "output_type": "stream",
          "text": [
            "tensor([5.5000, 3.0000])\n"
          ],
          "name": "stdout"
        }
      ]
    },
    {
      "metadata": {
        "id": "MS0QmDatEGgJ",
        "colab_type": "code",
        "outputId": "98fca9b7-7184-4dbd-f9dd-0b75c53ef1cd",
        "colab": {
          "base_uri": "https://localhost:8080/",
          "height": 102
        }
      },
      "cell_type": "code",
      "source": [
        "x = x.new_ones(5,3, dtype=torch.double)\n",
        "print(x)"
      ],
      "execution_count": 104,
      "outputs": [
        {
          "output_type": "stream",
          "text": [
            "tensor([[1., 1., 1.],\n",
            "        [1., 1., 1.],\n",
            "        [1., 1., 1.],\n",
            "        [1., 1., 1.],\n",
            "        [1., 1., 1.]], dtype=torch.float64)\n"
          ],
          "name": "stdout"
        }
      ]
    },
    {
      "metadata": {
        "id": "zgthJmzJEGgM",
        "colab_type": "code",
        "outputId": "317ca2fc-f21b-45f1-a0c5-b365d81a81f4",
        "colab": {
          "base_uri": "https://localhost:8080/",
          "height": 102
        }
      },
      "cell_type": "code",
      "source": [
        "x = torch.randn_like(x, dtype=torch.float)\n",
        "print(x)"
      ],
      "execution_count": 105,
      "outputs": [
        {
          "output_type": "stream",
          "text": [
            "tensor([[ 0.9550, -0.6385,  0.5562],\n",
            "        [-0.3965,  0.3873, -0.7307],\n",
            "        [ 0.0476,  1.9993,  0.0156],\n",
            "        [ 0.7437, -1.3766, -2.2663],\n",
            "        [-0.2656, -1.5316, -0.9865]])\n"
          ],
          "name": "stdout"
        }
      ]
    },
    {
      "metadata": {
        "id": "3tdg0zI8EGgP",
        "colab_type": "code",
        "outputId": "4f201d1b-070a-4a87-e4a8-3a253572cbe1",
        "colab": {
          "base_uri": "https://localhost:8080/",
          "height": 34
        }
      },
      "cell_type": "code",
      "source": [
        "print(x.size())"
      ],
      "execution_count": 106,
      "outputs": [
        {
          "output_type": "stream",
          "text": [
            "torch.Size([5, 3])\n"
          ],
          "name": "stdout"
        }
      ]
    },
    {
      "metadata": {
        "id": "Mudzopc6EGgR",
        "colab_type": "code",
        "outputId": "c8a3ba62-23b3-4a75-d88f-d51f74b04a03",
        "colab": {
          "base_uri": "https://localhost:8080/",
          "height": 34
        }
      },
      "cell_type": "code",
      "source": [
        "num_features = 1;\n",
        "for s in x.size()[1:]:\n",
        "            num_features *= s\n",
        "            print(num_features)"
      ],
      "execution_count": 107,
      "outputs": [
        {
          "output_type": "stream",
          "text": [
            "3\n"
          ],
          "name": "stdout"
        }
      ]
    },
    {
      "metadata": {
        "id": "QBLxy9ObEGgU",
        "colab_type": "code",
        "outputId": "20154fdd-a1dc-46ee-90a1-dba3643e7a0b",
        "colab": {
          "base_uri": "https://localhost:8080/",
          "height": 102
        }
      },
      "cell_type": "code",
      "source": [
        "y = torch.rand(5,3)\n",
        "print( x + y )"
      ],
      "execution_count": 108,
      "outputs": [
        {
          "output_type": "stream",
          "text": [
            "tensor([[ 1.1268, -0.4226,  0.7637],\n",
            "        [ 0.4963,  0.6107, -0.3762],\n",
            "        [ 0.8945,  2.5993,  0.3913],\n",
            "        [ 1.2126, -0.8410, -1.7808],\n",
            "        [ 0.5323, -1.4352, -0.8948]])\n"
          ],
          "name": "stdout"
        }
      ]
    },
    {
      "metadata": {
        "id": "1fDpN9dpEGgZ",
        "colab_type": "code",
        "outputId": "f2dd505c-30a9-4ffa-f242-17237db0a9dc",
        "colab": {
          "base_uri": "https://localhost:8080/",
          "height": 187
        }
      },
      "cell_type": "code",
      "source": [
        "result = torch.empty(5,3);\n",
        "print(result);\n",
        "torch.add(x,y, out=result)\n",
        "print(result)"
      ],
      "execution_count": 109,
      "outputs": [
        {
          "output_type": "stream",
          "text": [
            "tensor([[ 4.5859e-38,  0.0000e+00,  4.4842e-44],\n",
            "        [ 0.0000e+00,         nan, -3.7619e-01],\n",
            "        [ 2.6826e+23,  4.2886e-08,  1.3662e-05],\n",
            "        [ 5.3690e-05,  2.6332e+20,  4.2654e-08],\n",
            "        [ 1.0562e-05,  5.3977e-05, -8.9484e-01]])\n",
            "tensor([[ 1.1268, -0.4226,  0.7637],\n",
            "        [ 0.4963,  0.6107, -0.3762],\n",
            "        [ 0.8945,  2.5993,  0.3913],\n",
            "        [ 1.2126, -0.8410, -1.7808],\n",
            "        [ 0.5323, -1.4352, -0.8948]])\n"
          ],
          "name": "stdout"
        }
      ]
    },
    {
      "metadata": {
        "id": "Dnt8k4F7EGgb",
        "colab_type": "code",
        "outputId": "c606f2d0-2e16-41c3-e605-f08435193d95",
        "colab": {
          "base_uri": "https://localhost:8080/",
          "height": 102
        }
      },
      "cell_type": "code",
      "source": [
        "y.add(x)\n",
        "print(y)"
      ],
      "execution_count": 110,
      "outputs": [
        {
          "output_type": "stream",
          "text": [
            "tensor([[0.1718, 0.2159, 0.2075],\n",
            "        [0.8928, 0.2235, 0.3545],\n",
            "        [0.8470, 0.6000, 0.3757],\n",
            "        [0.4690, 0.5356, 0.4854],\n",
            "        [0.7978, 0.0964, 0.0916]])\n"
          ],
          "name": "stdout"
        }
      ]
    },
    {
      "metadata": {
        "id": "6LAa97mEEGge",
        "colab_type": "code",
        "outputId": "5b7e8b00-69e4-4d4a-e5bd-7f9dbe3a49f3",
        "colab": {
          "base_uri": "https://localhost:8080/",
          "height": 102
        }
      },
      "cell_type": "code",
      "source": [
        "y.add(-x)"
      ],
      "execution_count": 111,
      "outputs": [
        {
          "output_type": "execute_result",
          "data": {
            "text/plain": [
              "tensor([[-0.7832,  0.8545, -0.3487],\n",
              "        [ 1.2894, -0.1638,  1.0852],\n",
              "        [ 0.7994, -1.3994,  0.3601],\n",
              "        [-0.2747,  1.9122,  2.7517],\n",
              "        [ 1.0634,  1.6280,  1.0781]])"
            ]
          },
          "metadata": {
            "tags": []
          },
          "execution_count": 111
        }
      ]
    },
    {
      "metadata": {
        "id": "5MW3xGjwEGgi",
        "colab_type": "code",
        "outputId": "9d843835-fd06-49b1-bf77-dcce8c39115a",
        "colab": {
          "base_uri": "https://localhost:8080/",
          "height": 102
        }
      },
      "cell_type": "code",
      "source": [
        "y.add(x)"
      ],
      "execution_count": 112,
      "outputs": [
        {
          "output_type": "execute_result",
          "data": {
            "text/plain": [
              "tensor([[ 1.1268, -0.4226,  0.7637],\n",
              "        [ 0.4963,  0.6107, -0.3762],\n",
              "        [ 0.8945,  2.5993,  0.3913],\n",
              "        [ 1.2126, -0.8410, -1.7808],\n",
              "        [ 0.5323, -1.4352, -0.8948]])"
            ]
          },
          "metadata": {
            "tags": []
          },
          "execution_count": 112
        }
      ]
    },
    {
      "metadata": {
        "id": "vDKGAGjUEGgl",
        "colab_type": "code",
        "outputId": "6a090cb0-858f-4068-93fe-5954929a3900",
        "colab": {
          "base_uri": "https://localhost:8080/",
          "height": 102
        }
      },
      "cell_type": "code",
      "source": [
        "print(y)"
      ],
      "execution_count": 113,
      "outputs": [
        {
          "output_type": "stream",
          "text": [
            "tensor([[0.1718, 0.2159, 0.2075],\n",
            "        [0.8928, 0.2235, 0.3545],\n",
            "        [0.8470, 0.6000, 0.3757],\n",
            "        [0.4690, 0.5356, 0.4854],\n",
            "        [0.7978, 0.0964, 0.0916]])\n"
          ],
          "name": "stdout"
        }
      ]
    },
    {
      "metadata": {
        "id": "J-qsh8VyEGgn",
        "colab_type": "code",
        "outputId": "83ac1ecb-c101-4846-e6f1-3be392fa256d",
        "colab": {
          "base_uri": "https://localhost:8080/",
          "height": 102
        }
      },
      "cell_type": "code",
      "source": [
        "print(x)"
      ],
      "execution_count": 114,
      "outputs": [
        {
          "output_type": "stream",
          "text": [
            "tensor([[ 0.9550, -0.6385,  0.5562],\n",
            "        [-0.3965,  0.3873, -0.7307],\n",
            "        [ 0.0476,  1.9993,  0.0156],\n",
            "        [ 0.7437, -1.3766, -2.2663],\n",
            "        [-0.2656, -1.5316, -0.9865]])\n"
          ],
          "name": "stdout"
        }
      ]
    },
    {
      "metadata": {
        "id": "i4aoFrD4EGgp",
        "colab_type": "code",
        "outputId": "60b9f710-91f5-46d9-ae50-8b7f22eb9503",
        "colab": {
          "base_uri": "https://localhost:8080/",
          "height": 102
        }
      },
      "cell_type": "code",
      "source": [
        "y.add(-x)"
      ],
      "execution_count": 115,
      "outputs": [
        {
          "output_type": "execute_result",
          "data": {
            "text/plain": [
              "tensor([[-0.7832,  0.8545, -0.3487],\n",
              "        [ 1.2894, -0.1638,  1.0852],\n",
              "        [ 0.7994, -1.3994,  0.3601],\n",
              "        [-0.2747,  1.9122,  2.7517],\n",
              "        [ 1.0634,  1.6280,  1.0781]])"
            ]
          },
          "metadata": {
            "tags": []
          },
          "execution_count": 115
        }
      ]
    },
    {
      "metadata": {
        "id": "nKqE-AQREGgs",
        "colab_type": "code",
        "outputId": "018da3c2-b90d-4dae-c18f-68baa69c089e",
        "colab": {
          "base_uri": "https://localhost:8080/",
          "height": 102
        }
      },
      "cell_type": "code",
      "source": [
        "print(y)"
      ],
      "execution_count": 116,
      "outputs": [
        {
          "output_type": "stream",
          "text": [
            "tensor([[0.1718, 0.2159, 0.2075],\n",
            "        [0.8928, 0.2235, 0.3545],\n",
            "        [0.8470, 0.6000, 0.3757],\n",
            "        [0.4690, 0.5356, 0.4854],\n",
            "        [0.7978, 0.0964, 0.0916]])\n"
          ],
          "name": "stdout"
        }
      ]
    },
    {
      "metadata": {
        "id": "4SFN_RTaEGgu",
        "colab_type": "code",
        "outputId": "5d24f78c-dfd2-445b-e900-9ed6064e6d86",
        "colab": {
          "base_uri": "https://localhost:8080/",
          "height": 34
        }
      },
      "cell_type": "code",
      "source": [
        "print(x[:,1])"
      ],
      "execution_count": 117,
      "outputs": [
        {
          "output_type": "stream",
          "text": [
            "tensor([-0.6385,  0.3873,  1.9993, -1.3766, -1.5316])\n"
          ],
          "name": "stdout"
        }
      ]
    },
    {
      "metadata": {
        "id": "hPnGITPXEGgx",
        "colab_type": "code",
        "outputId": "ce5f6b59-4a94-4ae5-d880-195e12562d73",
        "colab": {
          "base_uri": "https://localhost:8080/",
          "height": 102
        }
      },
      "cell_type": "code",
      "source": [
        "print(x)"
      ],
      "execution_count": 118,
      "outputs": [
        {
          "output_type": "stream",
          "text": [
            "tensor([[ 0.9550, -0.6385,  0.5562],\n",
            "        [-0.3965,  0.3873, -0.7307],\n",
            "        [ 0.0476,  1.9993,  0.0156],\n",
            "        [ 0.7437, -1.3766, -2.2663],\n",
            "        [-0.2656, -1.5316, -0.9865]])\n"
          ],
          "name": "stdout"
        }
      ]
    },
    {
      "metadata": {
        "id": "QHPFF6kuEGg0",
        "colab_type": "code",
        "colab": {}
      },
      "cell_type": "code",
      "source": [
        "a = torch.ones(5)"
      ],
      "execution_count": 0,
      "outputs": []
    },
    {
      "metadata": {
        "id": "Mzgv4SYUEGg1",
        "colab_type": "code",
        "colab": {}
      },
      "cell_type": "code",
      "source": [
        "b = a.numpy()"
      ],
      "execution_count": 0,
      "outputs": []
    },
    {
      "metadata": {
        "id": "_C3Jw1vsEGg3",
        "colab_type": "code",
        "outputId": "e00a1471-272e-4d2a-bc90-b4f467814715",
        "colab": {
          "base_uri": "https://localhost:8080/",
          "height": 34
        }
      },
      "cell_type": "code",
      "source": [
        "print(b)\n"
      ],
      "execution_count": 121,
      "outputs": [
        {
          "output_type": "stream",
          "text": [
            "[1. 1. 1. 1. 1.]\n"
          ],
          "name": "stdout"
        }
      ]
    },
    {
      "metadata": {
        "id": "ysPbulTVEGg5",
        "colab_type": "code",
        "outputId": "d84033f4-065b-4a23-98d7-556523606969",
        "colab": {
          "base_uri": "https://localhost:8080/",
          "height": 34
        }
      },
      "cell_type": "code",
      "source": [
        "print(a)"
      ],
      "execution_count": 122,
      "outputs": [
        {
          "output_type": "stream",
          "text": [
            "tensor([1., 1., 1., 1., 1.])\n"
          ],
          "name": "stdout"
        }
      ]
    },
    {
      "metadata": {
        "id": "qsa-d3wTEGg7",
        "colab_type": "code",
        "outputId": "1d30dcc8-2092-4346-8037-20bc0c4e3caf",
        "colab": {
          "base_uri": "https://localhost:8080/",
          "height": 34
        }
      },
      "cell_type": "code",
      "source": [
        "a.add_(1)"
      ],
      "execution_count": 123,
      "outputs": [
        {
          "output_type": "execute_result",
          "data": {
            "text/plain": [
              "tensor([2., 2., 2., 2., 2.])"
            ]
          },
          "metadata": {
            "tags": []
          },
          "execution_count": 123
        }
      ]
    },
    {
      "metadata": {
        "id": "NniXVcEsEGg-",
        "colab_type": "code",
        "outputId": "e4fd817d-0aa6-400d-a332-417b354632bf",
        "colab": {
          "base_uri": "https://localhost:8080/",
          "height": 51
        }
      },
      "cell_type": "code",
      "source": [
        "print(a)\n",
        "print(b)"
      ],
      "execution_count": 124,
      "outputs": [
        {
          "output_type": "stream",
          "text": [
            "tensor([2., 2., 2., 2., 2.])\n",
            "[2. 2. 2. 2. 2.]\n"
          ],
          "name": "stdout"
        }
      ]
    },
    {
      "metadata": {
        "id": "P8l8ePqWEGhC",
        "colab_type": "code",
        "colab": {}
      },
      "cell_type": "code",
      "source": [
        "import numpy as np"
      ],
      "execution_count": 0,
      "outputs": []
    },
    {
      "metadata": {
        "id": "CT3yUgf1EGhD",
        "colab_type": "code",
        "colab": {}
      },
      "cell_type": "code",
      "source": [
        "a = np.ones(5)\n",
        "b = torch.from_numpy(a)"
      ],
      "execution_count": 0,
      "outputs": []
    },
    {
      "metadata": {
        "id": "Xd8L0XzDEGhF",
        "colab_type": "code",
        "outputId": "39aa5347-714d-40ce-9f43-063a3ef9df03",
        "colab": {
          "base_uri": "https://localhost:8080/",
          "height": 34
        }
      },
      "cell_type": "code",
      "source": [
        "np.add(a, 1, out=a)"
      ],
      "execution_count": 127,
      "outputs": [
        {
          "output_type": "execute_result",
          "data": {
            "text/plain": [
              "array([2., 2., 2., 2., 2.])"
            ]
          },
          "metadata": {
            "tags": []
          },
          "execution_count": 127
        }
      ]
    },
    {
      "metadata": {
        "id": "C35hCgYPEGhI",
        "colab_type": "code",
        "outputId": "b43f4c83-d4ad-4320-d44d-fafde7e5416f",
        "colab": {
          "base_uri": "https://localhost:8080/",
          "height": 51
        }
      },
      "cell_type": "code",
      "source": [
        "print(a)\n",
        "print(b)"
      ],
      "execution_count": 128,
      "outputs": [
        {
          "output_type": "stream",
          "text": [
            "[2. 2. 2. 2. 2.]\n",
            "tensor([2., 2., 2., 2., 2.], dtype=torch.float64)\n"
          ],
          "name": "stdout"
        }
      ]
    },
    {
      "metadata": {
        "id": "oIDk7c0PEGhO",
        "colab_type": "code",
        "outputId": "cda1c7cd-23f5-43bd-f6db-665523a0b2ad",
        "colab": {
          "base_uri": "https://localhost:8080/",
          "height": 34
        }
      },
      "cell_type": "code",
      "source": [
        "torch.cuda.is_available"
      ],
      "execution_count": 129,
      "outputs": [
        {
          "output_type": "execute_result",
          "data": {
            "text/plain": [
              "<function torch.cuda.is_available>"
            ]
          },
          "metadata": {
            "tags": []
          },
          "execution_count": 129
        }
      ]
    },
    {
      "metadata": {
        "id": "m4XkSxwqEGhR",
        "colab_type": "code",
        "outputId": "838151cc-8da9-4a24-a96c-3cd2766f13b5",
        "colab": {
          "base_uri": "https://localhost:8080/",
          "height": 34
        }
      },
      "cell_type": "code",
      "source": [
        "print(torch.cuda.is_available())"
      ],
      "execution_count": 130,
      "outputs": [
        {
          "output_type": "stream",
          "text": [
            "False\n"
          ],
          "name": "stdout"
        }
      ]
    },
    {
      "metadata": {
        "id": "DNQd_EEQEGhT",
        "colab_type": "code",
        "colab": {}
      },
      "cell_type": "code",
      "source": [
        "x = torch.ones(2,2, requires_grad=True)"
      ],
      "execution_count": 0,
      "outputs": []
    },
    {
      "metadata": {
        "id": "HXT2ytA4EGhV",
        "colab_type": "code",
        "outputId": "e6d38214-a983-44ad-fa46-7552b2e388e9",
        "colab": {
          "base_uri": "https://localhost:8080/",
          "height": 51
        }
      },
      "cell_type": "code",
      "source": [
        "print(x)"
      ],
      "execution_count": 132,
      "outputs": [
        {
          "output_type": "stream",
          "text": [
            "tensor([[1., 1.],\n",
            "        [1., 1.]], requires_grad=True)\n"
          ],
          "name": "stdout"
        }
      ]
    },
    {
      "metadata": {
        "id": "r3gbJc22EGhd",
        "colab_type": "code",
        "colab": {}
      },
      "cell_type": "code",
      "source": [
        "y = x+2"
      ],
      "execution_count": 0,
      "outputs": []
    },
    {
      "metadata": {
        "id": "u2HoTLvqEGhg",
        "colab_type": "code",
        "outputId": "00985c60-36b0-41af-8a76-664a9cc5ec98",
        "colab": {
          "base_uri": "https://localhost:8080/",
          "height": 51
        }
      },
      "cell_type": "code",
      "source": [
        "print(y)"
      ],
      "execution_count": 134,
      "outputs": [
        {
          "output_type": "stream",
          "text": [
            "tensor([[3., 3.],\n",
            "        [3., 3.]], grad_fn=<AddBackward>)\n"
          ],
          "name": "stdout"
        }
      ]
    },
    {
      "metadata": {
        "id": "qkK7k8THEGhi",
        "colab_type": "code",
        "outputId": "8ebb9a31-27bb-4203-ad6b-a23797d6bb14",
        "colab": {
          "base_uri": "https://localhost:8080/",
          "height": 34
        }
      },
      "cell_type": "code",
      "source": [
        "print(y.grad_fn)"
      ],
      "execution_count": 135,
      "outputs": [
        {
          "output_type": "stream",
          "text": [
            "<AddBackward object at 0x7fbce9d8de80>\n"
          ],
          "name": "stdout"
        }
      ]
    },
    {
      "metadata": {
        "id": "PmNE4KcrEGhm",
        "colab_type": "code",
        "colab": {}
      },
      "cell_type": "code",
      "source": [
        "z = y * y * 3"
      ],
      "execution_count": 0,
      "outputs": []
    },
    {
      "metadata": {
        "id": "VaSWL93KEGho",
        "colab_type": "code",
        "outputId": "526e9a67-7b79-4d14-80e5-9441fa30899c",
        "colab": {
          "base_uri": "https://localhost:8080/",
          "height": 51
        }
      },
      "cell_type": "code",
      "source": [
        "print(z)"
      ],
      "execution_count": 137,
      "outputs": [
        {
          "output_type": "stream",
          "text": [
            "tensor([[27., 27.],\n",
            "        [27., 27.]], grad_fn=<MulBackward>)\n"
          ],
          "name": "stdout"
        }
      ]
    },
    {
      "metadata": {
        "id": "vlMmMMOPEGhr",
        "colab_type": "code",
        "colab": {}
      },
      "cell_type": "code",
      "source": [
        "out = z.mean()"
      ],
      "execution_count": 0,
      "outputs": []
    },
    {
      "metadata": {
        "id": "gwIP9vdpEGht",
        "colab_type": "code",
        "outputId": "4c1f716f-c085-4535-a9aa-42e2013fc7b5",
        "colab": {
          "base_uri": "https://localhost:8080/",
          "height": 51
        }
      },
      "cell_type": "code",
      "source": [
        "print(z, out)"
      ],
      "execution_count": 139,
      "outputs": [
        {
          "output_type": "stream",
          "text": [
            "tensor([[27., 27.],\n",
            "        [27., 27.]], grad_fn=<MulBackward>) tensor(27., grad_fn=<MeanBackward1>)\n"
          ],
          "name": "stdout"
        }
      ]
    },
    {
      "metadata": {
        "id": "O_aaNpZYEGhv",
        "colab_type": "code",
        "colab": {}
      },
      "cell_type": "code",
      "source": [
        "out.backward()"
      ],
      "execution_count": 0,
      "outputs": []
    }
  ]
}