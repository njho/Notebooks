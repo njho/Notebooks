{
  "nbformat": 4,
  "nbformat_minor": 0,
  "metadata": {
    "colab": {
      "name": "PyTorch 60 Minute Tutorial That isn't 60 Minutes.ipynb",
      "version": "0.3.2",
      "provenance": [],
      "include_colab_link": true
    },
    "kernelspec": {
      "display_name": "Python 3",
      "language": "python",
      "name": "python3"
    }
  },
  "cells": [
    {
      "cell_type": "markdown",
      "metadata": {
        "id": "view-in-github",
        "colab_type": "text"
      },
      "source": [
        "<a href=\"https://colab.research.google.com/github/njho/Notebooks/blob/master/PyTorch_60_Minute_Tutorial_That_isn't_60_Minutes.ipynb\" target=\"_parent\"><img src=\"https://colab.research.google.com/assets/colab-badge.svg\" alt=\"Open In Colab\"/></a>"
      ]
    },
    {
      "metadata": {
        "id": "TCCR5LOYF7ed",
        "colab_type": "code",
        "colab": {}
      },
      "cell_type": "code",
      "source": [
        "import torch\n",
        "import torch.nn as nn\n",
        "import torch.nn.functional as F"
      ],
      "execution_count": 0,
      "outputs": []
    },
    {
      "metadata": {
        "id": "TG33rSaCF7eh",
        "colab_type": "code",
        "colab": {}
      },
      "cell_type": "code",
      "source": [
        "class Net(nn.Module):\n",
        "    \n",
        "    def __init__(self):\n",
        "        super(Net, self).__init__()\n",
        "        #1 input image channel, 6, 5x5 square convolution\n",
        "        #kernel\n",
        "#         (1 x 32 x 32) -> (6 x 32 x 32)\n",
        "        self.conv1 = nn.Conv2d(1,6,5)\n",
        "        self.conv2 = nn.Conv2d(6,16,5)\n",
        "        \n",
        "        self.fc1 = nn.Linear(16 * 5 * 5, 120)\n",
        "        self.fc2 = nn.Linear(120, 84)\n",
        "        self.fc3 = nn.Linear(84, 10)\n",
        "        \n",
        "    def forward(self, x):\n",
        "        # Max pooling over a (2, 2) window\n",
        "        x = F.max_pool2d(F.relu(self.conv1(x)), (2, 2))\n",
        "        # If the size is a square you can only specify a single number\n",
        "        x = F.max_pool2d(F.relu(self.conv2(x)), 2)\n",
        "        x = x.view(-1, self.num_flat_features(x))\n",
        "        x = F.relu(self.fc1(x))\n",
        "        x = F.relu(self.fc2(x))\n",
        "        x = self.fc3(x)\n",
        "        return x\n",
        "    \n",
        "    def num_flat_features(self, x):\n",
        "        size = x.size()[1:]  # all dimensions except the batch dimension\n",
        "        num_features = 1\n",
        "        for s in size:\n",
        "            num_features *= s\n",
        "        return num_features\n",
        "        "
      ],
      "execution_count": 0,
      "outputs": []
    },
    {
      "metadata": {
        "id": "ZB3m_vn3F7ek",
        "colab_type": "code",
        "colab": {}
      },
      "cell_type": "code",
      "source": [
        "def outputSize(in_size, kernel_size, stride, padding):\n",
        "\n",
        "    output = int((in_size - kernel_size + 2*(padding)) / stride) + 1\n",
        "\n",
        "    return(output)"
      ],
      "execution_count": 0,
      "outputs": []
    },
    {
      "metadata": {
        "id": "IOg0z_foF7em",
        "colab_type": "code",
        "outputId": "b81b0012-d2ff-4b7e-88b9-bc6b2a804e9f",
        "colab": {
          "base_uri": "https://localhost:8080/",
          "height": 136
        }
      },
      "cell_type": "code",
      "source": [
        "net = Net()\n",
        "print(net)"
      ],
      "execution_count": 6,
      "outputs": [
        {
          "output_type": "stream",
          "text": [
            "Net(\n",
            "  (conv1): Conv2d(1, 6, kernel_size=(5, 5), stride=(1, 1))\n",
            "  (conv2): Conv2d(6, 16, kernel_size=(5, 5), stride=(1, 1))\n",
            "  (fc1): Linear(in_features=400, out_features=120, bias=True)\n",
            "  (fc2): Linear(in_features=120, out_features=84, bias=True)\n",
            "  (fc3): Linear(in_features=84, out_features=10, bias=True)\n",
            ")\n"
          ],
          "name": "stdout"
        }
      ]
    },
    {
      "metadata": {
        "id": "dNi0uLa2F7er",
        "colab_type": "code",
        "outputId": "e4525776-a5cd-4338-ae85-2922fe500401",
        "colab": {
          "base_uri": "https://localhost:8080/",
          "height": 238
        }
      },
      "cell_type": "code",
      "source": [
        "params = list(net.parameters())\n",
        "print(len(params))\n",
        "for i in range(len(params)):\n",
        "    print(params[i].size())  # conv1's .weight\n",
        "    \n",
        "print(params[1])"
      ],
      "execution_count": 7,
      "outputs": [
        {
          "output_type": "stream",
          "text": [
            "10\n",
            "torch.Size([6, 1, 5, 5])\n",
            "torch.Size([6])\n",
            "torch.Size([16, 6, 5, 5])\n",
            "torch.Size([16])\n",
            "torch.Size([120, 400])\n",
            "torch.Size([120])\n",
            "torch.Size([84, 120])\n",
            "torch.Size([84])\n",
            "torch.Size([10, 84])\n",
            "torch.Size([10])\n",
            "Parameter containing:\n",
            "tensor([ 0.1127, -0.0683,  0.0210,  0.0794,  0.1614,  0.0990], requires_grad=True)\n"
          ],
          "name": "stdout"
        }
      ]
    },
    {
      "metadata": {
        "id": "ZrsKq-UZF7et",
        "colab_type": "code",
        "outputId": "6d5d059e-0898-45ba-f3fe-29a9159555b8",
        "colab": {
          "base_uri": "https://localhost:8080/",
          "height": 51
        }
      },
      "cell_type": "code",
      "source": [
        "input = torch.randn(1,1,32,32)\n",
        "out = net(input)\n",
        "print(out)"
      ],
      "execution_count": 8,
      "outputs": [
        {
          "output_type": "stream",
          "text": [
            "tensor([[-0.0752, -0.0298, -0.0476, -0.1167, -0.0540,  0.0455, -0.0601, -0.0883,\n",
            "          0.1051, -0.0971]], grad_fn=<ThAddmmBackward>)\n"
          ],
          "name": "stdout"
        }
      ]
    },
    {
      "metadata": {
        "id": "jUAIrKypF7ew",
        "colab_type": "text"
      },
      "cell_type": "markdown",
      "source": [
        "### I missed this originally"
      ]
    },
    {
      "metadata": {
        "id": "sJZCSmUaF7ex",
        "colab_type": "code",
        "colab": {}
      },
      "cell_type": "code",
      "source": [
        "net.zero_grad()\n",
        "out.backward(torch.randn(1, 10))"
      ],
      "execution_count": 0,
      "outputs": []
    },
    {
      "metadata": {
        "id": "yHgbx0RYF7e0",
        "colab_type": "code",
        "outputId": "b86cf9ca-dd70-48c9-e6f6-413e9be920c2",
        "colab": {
          "base_uri": "https://localhost:8080/",
          "height": 34
        }
      },
      "cell_type": "code",
      "source": [
        "output = net(input)\n",
        "target = torch.randn(10)  # a dummy target, for example\n",
        "target = target.view(1, -1)  # make it the same shape as output\n",
        "criterion = nn.MSELoss()\n",
        "\n",
        "loss = criterion(output, target)\n",
        "print(loss)"
      ],
      "execution_count": 10,
      "outputs": [
        {
          "output_type": "stream",
          "text": [
            "tensor(0.6247, grad_fn=<MseLossBackward>)\n"
          ],
          "name": "stdout"
        }
      ]
    },
    {
      "metadata": {
        "id": "uYDh7HxeF7e3",
        "colab_type": "code",
        "outputId": "e98ecb8d-97ae-4c20-b8ee-ad038b52ea47",
        "colab": {
          "base_uri": "https://localhost:8080/",
          "height": 68
        }
      },
      "cell_type": "code",
      "source": [
        "print(loss.grad_fn)  # MSELoss\n",
        "print(loss.grad_fn.next_functions[0][0])  # Linear\n",
        "print(loss.grad_fn.next_functions[0][0].next_functions[0][0])  # ReLU"
      ],
      "execution_count": 11,
      "outputs": [
        {
          "output_type": "stream",
          "text": [
            "<MseLossBackward object at 0x7f4ee01bfba8>\n",
            "<ThAddmmBackward object at 0x7f4ee01bf128>\n",
            "<ExpandBackward object at 0x7f4ee01bfba8>\n"
          ],
          "name": "stdout"
        }
      ]
    },
    {
      "metadata": {
        "id": "HIsVKOdGF7e6",
        "colab_type": "text"
      },
      "cell_type": "markdown",
      "source": [
        "### A Way of Printing the Full Graph"
      ]
    },
    {
      "metadata": {
        "id": "fLLQQ5xrF7e7",
        "colab_type": "code",
        "outputId": "fbf4be8e-f835-4035-fe8c-ce242c7ea2a3",
        "colab": {
          "base_uri": "https://localhost:8080/",
          "height": 510
        }
      },
      "cell_type": "code",
      "source": [
        "def print_graph(g, level=0):\n",
        "    if g == None: return\n",
        "    print('*'*level*4, g)\n",
        "    for subg in g.next_functions:\n",
        "        print_graph(subg[0], level+1)\n",
        "\n",
        "print_graph(loss.grad_fn, 0)"
      ],
      "execution_count": 12,
      "outputs": [
        {
          "output_type": "stream",
          "text": [
            " <MseLossBackward object at 0x7f4ee01bfcc0>\n",
            "**** <ThAddmmBackward object at 0x7f4ee01bfda0>\n",
            "******** <ExpandBackward object at 0x7f4ee01bfe48>\n",
            "************ <AccumulateGrad object at 0x7f4ee01bff28>\n",
            "******** <ReluBackward object at 0x7f4ee01bfe80>\n",
            "************ <ThAddmmBackward object at 0x7f4ee01bff28>\n",
            "**************** <ExpandBackward object at 0x7f4ee01bff98>\n",
            "******************** <AccumulateGrad object at 0x7f4ee01cd0b8>\n",
            "**************** <ReluBackward object at 0x7f4ee01bffd0>\n",
            "******************** <ThAddmmBackward object at 0x7f4ee01cd160>\n",
            "************************ <ExpandBackward object at 0x7f4ee01cd0f0>\n",
            "**************************** <AccumulateGrad object at 0x7f4ee01cd2e8>\n",
            "************************ <ViewBackward object at 0x7f4ee01cd0b8>\n",
            "**************************** <MaxPool2DWithIndicesBackward object at 0x7f4ee01cd4a8>\n",
            "******************************** <ReluBackward object at 0x7f4ee01b80f0>\n",
            "************************************ <ThnnConv2DBackward object at 0x7f4ee01b8400>\n",
            "**************************************** <MaxPool2DWithIndicesBackward object at 0x7f4ee01b8390>\n",
            "******************************************** <ReluBackward object at 0x7f4ee01b8a20>\n",
            "************************************************ <ThnnConv2DBackward object at 0x7f4ee01b8b70>\n",
            "**************************************************** <AccumulateGrad object at 0x7f4ee0241a58>\n",
            "**************************************************** <AccumulateGrad object at 0x7f4ee9b404e0>\n",
            "**************************************** <AccumulateGrad object at 0x7f4ee01b8668>\n",
            "**************************************** <AccumulateGrad object at 0x7f4ee01b8278>\n",
            "************************ <TBackward object at 0x7f4ee01cd1d0>\n",
            "**************************** <AccumulateGrad object at 0x7f4ee0241a58>\n",
            "**************** <TBackward object at 0x7f4ee01cd048>\n",
            "******************** <AccumulateGrad object at 0x7f4f0b818160>\n",
            "******** <TBackward object at 0x7f4ee01bfeb8>\n",
            "************ <AccumulateGrad object at 0x7f4ee01bffd0>\n"
          ],
          "name": "stdout"
        }
      ]
    },
    {
      "metadata": {
        "id": "LlvJsKC5F7e-",
        "colab_type": "text"
      },
      "cell_type": "markdown",
      "source": [
        "### Back on Track"
      ]
    },
    {
      "metadata": {
        "id": "H_oq9J8VF7e-",
        "colab_type": "code",
        "outputId": "a3108a6a-1fa3-4484-a8de-15fd308e4300",
        "colab": {
          "base_uri": "https://localhost:8080/",
          "height": 85
        }
      },
      "cell_type": "code",
      "source": [
        "net.zero_grad()\n",
        "\n",
        "print('conv1.bias.grad before backward')\n",
        "print(net.conv1.bias.grad)\n",
        "\n",
        "loss.backward()\n",
        "\n",
        "print('conv1.bias.grad after backward')\n",
        "print(net.conv1.bias.grad)"
      ],
      "execution_count": 13,
      "outputs": [
        {
          "output_type": "stream",
          "text": [
            "conv1.bias.grad before backward\n",
            "tensor([0., 0., 0., 0., 0., 0.])\n",
            "conv1.bias.grad after backward\n",
            "tensor([ 0.0059,  0.0019,  0.0014,  0.0088, -0.0003, -0.0007])\n"
          ],
          "name": "stdout"
        }
      ]
    },
    {
      "metadata": {
        "id": "6TyrKwdWF7fA",
        "colab_type": "code",
        "colab": {}
      },
      "cell_type": "code",
      "source": [
        "learning_rate = 0.01\n",
        "for f in net.parameters():\n",
        "    f.data.sub_(f.grad.data * learning_rate)"
      ],
      "execution_count": 0,
      "outputs": []
    },
    {
      "metadata": {
        "id": "pzMf0u2EF7fK",
        "colab_type": "code",
        "colab": {}
      },
      "cell_type": "code",
      "source": [
        ""
      ],
      "execution_count": 0,
      "outputs": []
    },
    {
      "metadata": {
        "id": "Quzl4zavF7fD",
        "colab_type": "code",
        "outputId": "4b67e80d-4640-4397-da21-d12ef8d5bebe",
        "colab": {
          "base_uri": "https://localhost:8080/",
          "height": 34
        }
      },
      "cell_type": "code",
      "source": [
        "print(net.parameters())"
      ],
      "execution_count": 15,
      "outputs": [
        {
          "output_type": "stream",
          "text": [
            "<generator object Module.parameters at 0x7f4ee020deb8>\n"
          ],
          "name": "stdout"
        }
      ]
    }
  ]
}